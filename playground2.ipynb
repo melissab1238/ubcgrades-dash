{
 "cells": [
  {
   "cell_type": "markdown",
   "metadata": {},
   "source": [
    "# Setup\n",
    "## Install requirements"
   ]
  },
  {
   "cell_type": "code",
   "execution_count": 1,
   "metadata": {},
   "outputs": [],
   "source": [
    "\n",
    "# pip install -r requirements.txt"
   ]
  },
  {
   "cell_type": "markdown",
   "metadata": {},
   "source": [
    "## Upload dataframe from api or csv\n",
    "Uses helper function `load_dataframe` from [helpers.py](helpers.py)"
   ]
  },
  {
   "cell_type": "code",
   "execution_count": 2,
   "metadata": {},
   "outputs": [
    {
     "name": "stdout",
     "output_type": "stream",
     "text": [
      "(26139, 30)\n"
     ]
    },
    {
     "name": "stderr",
     "output_type": "stream",
     "text": [
      "/var/folders/ws/pxjcsvmx1w124qrkl_57jbpc0000gn/T/ipykernel_26459/3246391491.py:3: DeprecationWarning: \n",
      "Pyarrow will become a required dependency of pandas in the next major release of pandas (pandas 3.0),\n",
      "(to allow more performant data types, such as the Arrow string type, and better interoperability with other libraries)\n",
      "but was not found to be installed on your system.\n",
      "If this would cause problems for you,\n",
      "please provide us feedback at https://github.com/pandas-dev/pandas/issues/54466\n",
      "        \n",
      "  import pandas as pd\n"
     ]
    }
   ],
   "source": [
    "import requests\n",
    "import json\n",
    "import pandas as pd\n",
    "from helpers import load_dataframe\n",
    "\n",
    "# df = load_dataframe(input_type=\"api\")\n",
    "df = load_dataframe(input_type=\"csv\", csv_path=\"apiGradesv3.csv\")\n",
    "\n",
    "print(df.shape)\n"
   ]
  },
  {
   "cell_type": "markdown",
   "metadata": {},
   "source": [
    "# Data Manupulation\n",
    "## Filter on dataframe\n",
    "Practicing pandas filtering"
   ]
  },
  {
   "cell_type": "code",
   "execution_count": 3,
   "metadata": {},
   "outputs": [
    {
     "data": {
      "text/html": [
       "<div>\n",
       "<style scoped>\n",
       "    .dataframe tbody tr th:only-of-type {\n",
       "        vertical-align: middle;\n",
       "    }\n",
       "\n",
       "    .dataframe tbody tr th {\n",
       "        vertical-align: top;\n",
       "    }\n",
       "\n",
       "    .dataframe thead th {\n",
       "        text-align: right;\n",
       "    }\n",
       "</style>\n",
       "<table border=\"1\" class=\"dataframe\">\n",
       "  <thead>\n",
       "    <tr style=\"text-align: right;\">\n",
       "      <th></th>\n",
       "      <th>Unnamed: 0</th>\n",
       "      <th>average</th>\n",
       "      <th>campus</th>\n",
       "      <th>course</th>\n",
       "      <th>course_title</th>\n",
       "      <th>detail</th>\n",
       "      <th>educators</th>\n",
       "      <th>faculty_title</th>\n",
       "      <th>high</th>\n",
       "      <th>low</th>\n",
       "      <th>...</th>\n",
       "      <th>grades.55-59%</th>\n",
       "      <th>grades.60-63%</th>\n",
       "      <th>grades.64-67%</th>\n",
       "      <th>grades.68-71%</th>\n",
       "      <th>grades.72-75%</th>\n",
       "      <th>grades.76-79%</th>\n",
       "      <th>grades.80-84%</th>\n",
       "      <th>grades.85-89%</th>\n",
       "      <th>grades.90-100%</th>\n",
       "      <th>grades.&lt;50%</th>\n",
       "    </tr>\n",
       "  </thead>\n",
       "  <tbody>\n",
       "    <tr>\n",
       "      <th>0</th>\n",
       "      <td>0</td>\n",
       "      <td>93.900000</td>\n",
       "      <td>UBCV</td>\n",
       "      <td>390</td>\n",
       "      <td>Asian Migrations in a Global Context</td>\n",
       "      <td>A</td>\n",
       "      <td>Henry Yu</td>\n",
       "      <td>Faculty of Arts</td>\n",
       "      <td>100</td>\n",
       "      <td>85</td>\n",
       "      <td>...</td>\n",
       "      <td>NaN</td>\n",
       "      <td>NaN</td>\n",
       "      <td>NaN</td>\n",
       "      <td>NaN</td>\n",
       "      <td>NaN</td>\n",
       "      <td>NaN</td>\n",
       "      <td>NaN</td>\n",
       "      <td>NaN</td>\n",
       "      <td>16.0</td>\n",
       "      <td>NaN</td>\n",
       "    </tr>\n",
       "    <tr>\n",
       "      <th>1</th>\n",
       "      <td>1</td>\n",
       "      <td>86.700000</td>\n",
       "      <td>UBCV</td>\n",
       "      <td>327</td>\n",
       "      <td>Teaching Adults</td>\n",
       "      <td>NaN</td>\n",
       "      <td>Pierre Walter</td>\n",
       "      <td>Faculty of Education</td>\n",
       "      <td>93</td>\n",
       "      <td>76</td>\n",
       "      <td>...</td>\n",
       "      <td>NaN</td>\n",
       "      <td>NaN</td>\n",
       "      <td>NaN</td>\n",
       "      <td>NaN</td>\n",
       "      <td>NaN</td>\n",
       "      <td>NaN</td>\n",
       "      <td>NaN</td>\n",
       "      <td>15.0</td>\n",
       "      <td>7.0</td>\n",
       "      <td>NaN</td>\n",
       "    </tr>\n",
       "    <tr>\n",
       "      <th>2</th>\n",
       "      <td>2</td>\n",
       "      <td>84.600000</td>\n",
       "      <td>UBCV</td>\n",
       "      <td>327</td>\n",
       "      <td>Teaching Adults</td>\n",
       "      <td>NaN</td>\n",
       "      <td>Dave Smulders</td>\n",
       "      <td>Faculty of Education</td>\n",
       "      <td>94</td>\n",
       "      <td>75</td>\n",
       "      <td>...</td>\n",
       "      <td>NaN</td>\n",
       "      <td>NaN</td>\n",
       "      <td>NaN</td>\n",
       "      <td>NaN</td>\n",
       "      <td>NaN</td>\n",
       "      <td>NaN</td>\n",
       "      <td>6.0</td>\n",
       "      <td>NaN</td>\n",
       "      <td>6.0</td>\n",
       "      <td>NaN</td>\n",
       "    </tr>\n",
       "    <tr>\n",
       "      <th>3</th>\n",
       "      <td>3</td>\n",
       "      <td>86.800000</td>\n",
       "      <td>UBCV</td>\n",
       "      <td>327</td>\n",
       "      <td>Teaching Adults</td>\n",
       "      <td>NaN</td>\n",
       "      <td>Dave Smulders</td>\n",
       "      <td>Faculty of Education</td>\n",
       "      <td>94</td>\n",
       "      <td>75</td>\n",
       "      <td>...</td>\n",
       "      <td>NaN</td>\n",
       "      <td>NaN</td>\n",
       "      <td>NaN</td>\n",
       "      <td>NaN</td>\n",
       "      <td>NaN</td>\n",
       "      <td>NaN</td>\n",
       "      <td>NaN</td>\n",
       "      <td>7.0</td>\n",
       "      <td>7.0</td>\n",
       "      <td>NaN</td>\n",
       "    </tr>\n",
       "    <tr>\n",
       "      <th>4</th>\n",
       "      <td>4</td>\n",
       "      <td>84.600000</td>\n",
       "      <td>UBCV</td>\n",
       "      <td>328</td>\n",
       "      <td>Institutions of Adult Education</td>\n",
       "      <td>NaN</td>\n",
       "      <td>Vicheth Sen</td>\n",
       "      <td>Faculty of Education</td>\n",
       "      <td>92</td>\n",
       "      <td>73</td>\n",
       "      <td>...</td>\n",
       "      <td>NaN</td>\n",
       "      <td>NaN</td>\n",
       "      <td>NaN</td>\n",
       "      <td>NaN</td>\n",
       "      <td>NaN</td>\n",
       "      <td>NaN</td>\n",
       "      <td>6.0</td>\n",
       "      <td>7.0</td>\n",
       "      <td>NaN</td>\n",
       "      <td>NaN</td>\n",
       "    </tr>\n",
       "    <tr>\n",
       "      <th>...</th>\n",
       "      <td>...</td>\n",
       "      <td>...</td>\n",
       "      <td>...</td>\n",
       "      <td>...</td>\n",
       "      <td>...</td>\n",
       "      <td>...</td>\n",
       "      <td>...</td>\n",
       "      <td>...</td>\n",
       "      <td>...</td>\n",
       "      <td>...</td>\n",
       "      <td>...</td>\n",
       "      <td>...</td>\n",
       "      <td>...</td>\n",
       "      <td>...</td>\n",
       "      <td>...</td>\n",
       "      <td>...</td>\n",
       "      <td>...</td>\n",
       "      <td>...</td>\n",
       "      <td>...</td>\n",
       "      <td>...</td>\n",
       "      <td>...</td>\n",
       "    </tr>\n",
       "    <tr>\n",
       "      <th>21400</th>\n",
       "      <td>21400</td>\n",
       "      <td>81.400000</td>\n",
       "      <td>UBCV</td>\n",
       "      <td>150</td>\n",
       "      <td>Writing and Research in the Disciplines</td>\n",
       "      <td>B</td>\n",
       "      <td>David Newman</td>\n",
       "      <td>Faculty of Arts</td>\n",
       "      <td>91</td>\n",
       "      <td>71</td>\n",
       "      <td>...</td>\n",
       "      <td>0.0</td>\n",
       "      <td>0.0</td>\n",
       "      <td>0.0</td>\n",
       "      <td>1.0</td>\n",
       "      <td>0.0</td>\n",
       "      <td>6.0</td>\n",
       "      <td>13.0</td>\n",
       "      <td>4.0</td>\n",
       "      <td>1.0</td>\n",
       "      <td>0.0</td>\n",
       "    </tr>\n",
       "    <tr>\n",
       "      <th>21401</th>\n",
       "      <td>21401</td>\n",
       "      <td>73.500000</td>\n",
       "      <td>UBCV</td>\n",
       "      <td>150</td>\n",
       "      <td>Writing and Research in the Disciplines</td>\n",
       "      <td>B</td>\n",
       "      <td>Mi-Young Kim</td>\n",
       "      <td>Faculty of Arts</td>\n",
       "      <td>86</td>\n",
       "      <td>44</td>\n",
       "      <td>...</td>\n",
       "      <td>1.0</td>\n",
       "      <td>0.0</td>\n",
       "      <td>4.0</td>\n",
       "      <td>1.0</td>\n",
       "      <td>10.0</td>\n",
       "      <td>6.0</td>\n",
       "      <td>4.0</td>\n",
       "      <td>2.0</td>\n",
       "      <td>0.0</td>\n",
       "      <td>1.0</td>\n",
       "    </tr>\n",
       "    <tr>\n",
       "      <th>21402</th>\n",
       "      <td>21402</td>\n",
       "      <td>71.000000</td>\n",
       "      <td>UBCV</td>\n",
       "      <td>150</td>\n",
       "      <td>Writing and Research in the Disciplines</td>\n",
       "      <td>B</td>\n",
       "      <td>Mi-Young Kim</td>\n",
       "      <td>Faculty of Arts</td>\n",
       "      <td>83</td>\n",
       "      <td>54</td>\n",
       "      <td>...</td>\n",
       "      <td>2.0</td>\n",
       "      <td>4.0</td>\n",
       "      <td>5.0</td>\n",
       "      <td>2.0</td>\n",
       "      <td>4.0</td>\n",
       "      <td>3.0</td>\n",
       "      <td>8.0</td>\n",
       "      <td>0.0</td>\n",
       "      <td>0.0</td>\n",
       "      <td>0.0</td>\n",
       "    </tr>\n",
       "    <tr>\n",
       "      <th>21403</th>\n",
       "      <td>21403</td>\n",
       "      <td>76.900000</td>\n",
       "      <td>UBCV</td>\n",
       "      <td>150</td>\n",
       "      <td>Writing and Research in the Disciplines</td>\n",
       "      <td>B</td>\n",
       "      <td>David Newman</td>\n",
       "      <td>Faculty of Arts</td>\n",
       "      <td>85</td>\n",
       "      <td>67</td>\n",
       "      <td>...</td>\n",
       "      <td>0.0</td>\n",
       "      <td>0.0</td>\n",
       "      <td>1.0</td>\n",
       "      <td>2.0</td>\n",
       "      <td>9.0</td>\n",
       "      <td>6.0</td>\n",
       "      <td>10.0</td>\n",
       "      <td>1.0</td>\n",
       "      <td>0.0</td>\n",
       "      <td>0.0</td>\n",
       "    </tr>\n",
       "    <tr>\n",
       "      <th>21404</th>\n",
       "      <td>21404</td>\n",
       "      <td>77.197231</td>\n",
       "      <td>UBCV</td>\n",
       "      <td>150</td>\n",
       "      <td>Writing and Research in the Disciplines</td>\n",
       "      <td>B</td>\n",
       "      <td>NaN</td>\n",
       "      <td>Faculty of Arts</td>\n",
       "      <td>100</td>\n",
       "      <td>0</td>\n",
       "      <td>...</td>\n",
       "      <td>13.0</td>\n",
       "      <td>15.0</td>\n",
       "      <td>24.0</td>\n",
       "      <td>44.0</td>\n",
       "      <td>82.0</td>\n",
       "      <td>133.0</td>\n",
       "      <td>149.0</td>\n",
       "      <td>67.0</td>\n",
       "      <td>66.0</td>\n",
       "      <td>16.0</td>\n",
       "    </tr>\n",
       "  </tbody>\n",
       "</table>\n",
       "<p>21405 rows × 30 columns</p>\n",
       "</div>"
      ],
      "text/plain": [
       "       Unnamed: 0    average campus  course  \\\n",
       "0               0  93.900000   UBCV     390   \n",
       "1               1  86.700000   UBCV     327   \n",
       "2               2  84.600000   UBCV     327   \n",
       "3               3  86.800000   UBCV     327   \n",
       "4               4  84.600000   UBCV     328   \n",
       "...           ...        ...    ...     ...   \n",
       "21400       21400  81.400000   UBCV     150   \n",
       "21401       21401  73.500000   UBCV     150   \n",
       "21402       21402  71.000000   UBCV     150   \n",
       "21403       21403  76.900000   UBCV     150   \n",
       "21404       21404  77.197231   UBCV     150   \n",
       "\n",
       "                                  course_title detail      educators  \\\n",
       "0         Asian Migrations in a Global Context      A       Henry Yu   \n",
       "1                              Teaching Adults    NaN  Pierre Walter   \n",
       "2                              Teaching Adults    NaN  Dave Smulders   \n",
       "3                              Teaching Adults    NaN  Dave Smulders   \n",
       "4              Institutions of Adult Education    NaN    Vicheth Sen   \n",
       "...                                        ...    ...            ...   \n",
       "21400  Writing and Research in the Disciplines      B   David Newman   \n",
       "21401  Writing and Research in the Disciplines      B   Mi-Young Kim   \n",
       "21402  Writing and Research in the Disciplines      B   Mi-Young Kim   \n",
       "21403  Writing and Research in the Disciplines      B   David Newman   \n",
       "21404  Writing and Research in the Disciplines      B            NaN   \n",
       "\n",
       "              faculty_title  high  low  ...  grades.55-59%  grades.60-63%  \\\n",
       "0           Faculty of Arts   100   85  ...            NaN            NaN   \n",
       "1      Faculty of Education    93   76  ...            NaN            NaN   \n",
       "2      Faculty of Education    94   75  ...            NaN            NaN   \n",
       "3      Faculty of Education    94   75  ...            NaN            NaN   \n",
       "4      Faculty of Education    92   73  ...            NaN            NaN   \n",
       "...                     ...   ...  ...  ...            ...            ...   \n",
       "21400       Faculty of Arts    91   71  ...            0.0            0.0   \n",
       "21401       Faculty of Arts    86   44  ...            1.0            0.0   \n",
       "21402       Faculty of Arts    83   54  ...            2.0            4.0   \n",
       "21403       Faculty of Arts    85   67  ...            0.0            0.0   \n",
       "21404       Faculty of Arts   100    0  ...           13.0           15.0   \n",
       "\n",
       "       grades.64-67%  grades.68-71% grades.72-75% grades.76-79% grades.80-84%  \\\n",
       "0                NaN            NaN           NaN           NaN           NaN   \n",
       "1                NaN            NaN           NaN           NaN           NaN   \n",
       "2                NaN            NaN           NaN           NaN           6.0   \n",
       "3                NaN            NaN           NaN           NaN           NaN   \n",
       "4                NaN            NaN           NaN           NaN           6.0   \n",
       "...              ...            ...           ...           ...           ...   \n",
       "21400            0.0            1.0           0.0           6.0          13.0   \n",
       "21401            4.0            1.0          10.0           6.0           4.0   \n",
       "21402            5.0            2.0           4.0           3.0           8.0   \n",
       "21403            1.0            2.0           9.0           6.0          10.0   \n",
       "21404           24.0           44.0          82.0         133.0         149.0   \n",
       "\n",
       "      grades.85-89%  grades.90-100%  grades.<50%  \n",
       "0               NaN            16.0          NaN  \n",
       "1              15.0             7.0          NaN  \n",
       "2               NaN             6.0          NaN  \n",
       "3               7.0             7.0          NaN  \n",
       "4               7.0             NaN          NaN  \n",
       "...             ...             ...          ...  \n",
       "21400           4.0             1.0          0.0  \n",
       "21401           2.0             0.0          1.0  \n",
       "21402           0.0             0.0          0.0  \n",
       "21403           1.0             0.0          0.0  \n",
       "21404          67.0            66.0         16.0  \n",
       "\n",
       "[21405 rows x 30 columns]"
      ]
     },
     "execution_count": 3,
     "metadata": {},
     "output_type": "execute_result"
    }
   ],
   "source": [
    "justubcv = df[df['campus']=='UBCV']\n",
    "justubcv"
   ]
  },
  {
   "cell_type": "markdown",
   "metadata": {},
   "source": [
    "## Querying dataframe with sqldf"
   ]
  },
  {
   "cell_type": "code",
   "execution_count": 4,
   "metadata": {},
   "outputs": [
    {
     "data": {
      "text/html": [
       "<div>\n",
       "<style scoped>\n",
       "    .dataframe tbody tr th:only-of-type {\n",
       "        vertical-align: middle;\n",
       "    }\n",
       "\n",
       "    .dataframe tbody tr th {\n",
       "        vertical-align: top;\n",
       "    }\n",
       "\n",
       "    .dataframe thead th {\n",
       "        text-align: right;\n",
       "    }\n",
       "</style>\n",
       "<table border=\"1\" class=\"dataframe\">\n",
       "  <thead>\n",
       "    <tr style=\"text-align: right;\">\n",
       "      <th></th>\n",
       "      <th>campus</th>\n",
       "      <th>subject</th>\n",
       "      <th>course</th>\n",
       "      <th>average</th>\n",
       "      <th>year</th>\n",
       "    </tr>\n",
       "  </thead>\n",
       "  <tbody>\n",
       "    <tr>\n",
       "      <th>0</th>\n",
       "      <td>UBCV</td>\n",
       "      <td>ACAM</td>\n",
       "      <td>390</td>\n",
       "      <td>93.9</td>\n",
       "      <td>2021</td>\n",
       "    </tr>\n",
       "    <tr>\n",
       "      <th>1</th>\n",
       "      <td>UBCV</td>\n",
       "      <td>ADHE</td>\n",
       "      <td>328</td>\n",
       "      <td>91.4</td>\n",
       "      <td>2021</td>\n",
       "    </tr>\n",
       "    <tr>\n",
       "      <th>2</th>\n",
       "      <td>UBCV</td>\n",
       "      <td>ADHE</td>\n",
       "      <td>330</td>\n",
       "      <td>90.6</td>\n",
       "      <td>2021</td>\n",
       "    </tr>\n",
       "    <tr>\n",
       "      <th>3</th>\n",
       "      <td>UBCV</td>\n",
       "      <td>APBI</td>\n",
       "      <td>497</td>\n",
       "      <td>91.2</td>\n",
       "      <td>2021</td>\n",
       "    </tr>\n",
       "    <tr>\n",
       "      <th>4</th>\n",
       "      <td>UBCV</td>\n",
       "      <td>ARCL</td>\n",
       "      <td>306</td>\n",
       "      <td>91.6</td>\n",
       "      <td>2021</td>\n",
       "    </tr>\n",
       "    <tr>\n",
       "      <th>...</th>\n",
       "      <td>...</td>\n",
       "      <td>...</td>\n",
       "      <td>...</td>\n",
       "      <td>...</td>\n",
       "      <td>...</td>\n",
       "    </tr>\n",
       "    <tr>\n",
       "      <th>1168</th>\n",
       "      <td>UBCO</td>\n",
       "      <td>VISA</td>\n",
       "      <td>460</td>\n",
       "      <td>91.7</td>\n",
       "      <td>2023</td>\n",
       "    </tr>\n",
       "    <tr>\n",
       "      <th>1169</th>\n",
       "      <td>UBCO</td>\n",
       "      <td>VISA</td>\n",
       "      <td>460</td>\n",
       "      <td>100.0</td>\n",
       "      <td>2023</td>\n",
       "    </tr>\n",
       "    <tr>\n",
       "      <th>1170</th>\n",
       "      <td>UBCO</td>\n",
       "      <td>VISA</td>\n",
       "      <td>460</td>\n",
       "      <td>100.0</td>\n",
       "      <td>2023</td>\n",
       "    </tr>\n",
       "    <tr>\n",
       "      <th>1171</th>\n",
       "      <td>UBCO</td>\n",
       "      <td>WRLD</td>\n",
       "      <td>399</td>\n",
       "      <td>96.4</td>\n",
       "      <td>2023</td>\n",
       "    </tr>\n",
       "    <tr>\n",
       "      <th>1172</th>\n",
       "      <td>UBCO</td>\n",
       "      <td>WRLD</td>\n",
       "      <td>399</td>\n",
       "      <td>96.4</td>\n",
       "      <td>2023</td>\n",
       "    </tr>\n",
       "  </tbody>\n",
       "</table>\n",
       "<p>1173 rows × 5 columns</p>\n",
       "</div>"
      ],
      "text/plain": [
       "     campus subject  course  average  year\n",
       "0      UBCV    ACAM     390     93.9  2021\n",
       "1      UBCV    ADHE     328     91.4  2021\n",
       "2      UBCV    ADHE     330     90.6  2021\n",
       "3      UBCV    APBI     497     91.2  2021\n",
       "4      UBCV    ARCL     306     91.6  2021\n",
       "...     ...     ...     ...      ...   ...\n",
       "1168   UBCO    VISA     460     91.7  2023\n",
       "1169   UBCO    VISA     460    100.0  2023\n",
       "1170   UBCO    VISA     460    100.0  2023\n",
       "1171   UBCO    WRLD     399     96.4  2023\n",
       "1172   UBCO    WRLD     399     96.4  2023\n",
       "\n",
       "[1173 rows x 5 columns]"
      ]
     },
     "execution_count": 4,
     "metadata": {},
     "output_type": "execute_result"
    }
   ],
   "source": [
    "import sqldf\n",
    "\n",
    "query = \"\"\"\n",
    "SELECT campus, subject, course, average, year\n",
    "FROM df\n",
    "WHERE average >= 90  AND year >= 2020 AND course <500\n",
    "\"\"\"\n",
    "df_view = sqldf.run(query)\n",
    "df_view"
   ]
  },
  {
   "cell_type": "markdown",
   "metadata": {},
   "source": [
    "# Connection with PandasAI\n",
    "pandas + openai\n",
    "Goal: use generative AI to use questions to uncover answers in the data.\n",
    "Ultimate goal: Give the answer and output visualizations to back up the answer.\n",
    "\n",
    "## Sample pandasai chat query - asking for highest average"
   ]
  },
  {
   "cell_type": "code",
   "execution_count": 5,
   "metadata": {},
   "outputs": [
    {
     "name": "stdout",
     "output_type": "stream",
     "text": [
      "Unfortunately, I was not able to answer your question, because of the following error:\n",
      "\n",
      "Invalid Input Error: Required module 'pandas.core.arrays.arrow.dtype' failed to import, due to the following Python exception:\n",
      "ModuleNotFoundError: No module named 'pandas.core.arrays.arrow.dtype'\n",
      "\n"
     ]
    }
   ],
   "source": [
    "# Pandas and OpenAI\n",
    "# pandasai examples https://github.com/gventuri/pandas-ai/tree/main/examples * \n",
    "from pandasai import SmartDataframe\n",
    "from pandasai.llm import OpenAI\n",
    "import os #!pip install python-dotenv\n",
    "import openai # do i need this?\n",
    "\n",
    "temp = os.getenv(\"OPENAI_API_KEY\")\n",
    "llm = OpenAI(api_token=temp) # note: set OPENAI_API_KEY=__ in .env file\n",
    "smartdf = SmartDataframe(df, config={\"llm\": llm})\n",
    "response = smartdf.chat(\"What course has the highest average? Give information about year, course, subject, and the average itself.\")\n",
    "print(response)"
   ]
  },
  {
   "cell_type": "markdown",
   "metadata": {},
   "source": [
    "## pandasai SmartDataFrame can create plots\n",
    "Question: are these using plotly? or another python graphing software?"
   ]
  },
  {
   "cell_type": "code",
   "execution_count": 6,
   "metadata": {},
   "outputs": [
    {
     "data": {
      "text/plain": [
       "'/Users/melissa/Documents/Personal Projects/my-ubc-grades/ubcgrades-dash/exports/charts/temp_chart.png'"
      ]
     },
     "execution_count": 6,
     "metadata": {},
     "output_type": "execute_result"
    },
    {
     "data": {
      "image/png": "[encoded data removed]",
      "text/plain": [
       "<Figure size 1000x600 with 1 Axes>"
      ]
     },
     "metadata": {},
     "output_type": "display_data"
    }
   ],
   "source": [
    "response = smartdf.chat(\"Plot course averages by faculty title.\")\n"
   ]
  },
  {
   "cell_type": "markdown",
   "metadata": {},
   "source": [
    "# Creating a dash app (in progress)\n"
   ]
  },
  {
   "cell_type": "code",
   "execution_count": 25,
   "metadata": {},
   "outputs": [
    {
     "data": {
      "text/html": [
       "<div>\n",
       "<style scoped>\n",
       "    .dataframe tbody tr th:only-of-type {\n",
       "        vertical-align: middle;\n",
       "    }\n",
       "\n",
       "    .dataframe tbody tr th {\n",
       "        vertical-align: top;\n",
       "    }\n",
       "\n",
       "    .dataframe thead th {\n",
       "        text-align: right;\n",
       "    }\n",
       "</style>\n",
       "<table border=\"1\" class=\"dataframe\">\n",
       "  <thead>\n",
       "    <tr style=\"text-align: right;\">\n",
       "      <th></th>\n",
       "      <th>Unnamed: 0</th>\n",
       "      <th>average</th>\n",
       "      <th>campus</th>\n",
       "      <th>course</th>\n",
       "      <th>course_title</th>\n",
       "      <th>detail</th>\n",
       "      <th>educators</th>\n",
       "      <th>faculty_title</th>\n",
       "      <th>high</th>\n",
       "      <th>low</th>\n",
       "      <th>...</th>\n",
       "      <th>grades.55-59%</th>\n",
       "      <th>grades.60-63%</th>\n",
       "      <th>grades.64-67%</th>\n",
       "      <th>grades.68-71%</th>\n",
       "      <th>grades.72-75%</th>\n",
       "      <th>grades.76-79%</th>\n",
       "      <th>grades.80-84%</th>\n",
       "      <th>grades.85-89%</th>\n",
       "      <th>grades.90-100%</th>\n",
       "      <th>grades.&lt;50%</th>\n",
       "    </tr>\n",
       "  </thead>\n",
       "  <tbody>\n",
       "    <tr>\n",
       "      <th>24894</th>\n",
       "      <td>24894</td>\n",
       "      <td>91.3</td>\n",
       "      <td>UBCO</td>\n",
       "      <td>503</td>\n",
       "      <td>Indigenous Research Methods</td>\n",
       "      <td>S</td>\n",
       "      <td>Shawn Wilson</td>\n",
       "      <td>College of Graduate Studies</td>\n",
       "      <td>96</td>\n",
       "      <td>83</td>\n",
       "      <td>...</td>\n",
       "      <td>0.0</td>\n",
       "      <td>0.0</td>\n",
       "      <td>0.0</td>\n",
       "      <td>0.0</td>\n",
       "      <td>0.0</td>\n",
       "      <td>0.0</td>\n",
       "      <td>1.0</td>\n",
       "      <td>1.0</td>\n",
       "      <td>11.0</td>\n",
       "      <td>0.0</td>\n",
       "    </tr>\n",
       "    <tr>\n",
       "      <th>24895</th>\n",
       "      <td>24895</td>\n",
       "      <td>91.3</td>\n",
       "      <td>UBCO</td>\n",
       "      <td>503</td>\n",
       "      <td>Indigenous Research Methods</td>\n",
       "      <td>S</td>\n",
       "      <td>None</td>\n",
       "      <td>College of Graduate Studies</td>\n",
       "      <td>96</td>\n",
       "      <td>83</td>\n",
       "      <td>...</td>\n",
       "      <td>0.0</td>\n",
       "      <td>0.0</td>\n",
       "      <td>0.0</td>\n",
       "      <td>0.0</td>\n",
       "      <td>0.0</td>\n",
       "      <td>0.0</td>\n",
       "      <td>1.0</td>\n",
       "      <td>1.0</td>\n",
       "      <td>11.0</td>\n",
       "      <td>0.0</td>\n",
       "    </tr>\n",
       "    <tr>\n",
       "      <th>24896</th>\n",
       "      <td>24896</td>\n",
       "      <td>95.3</td>\n",
       "      <td>UBCO</td>\n",
       "      <td>515</td>\n",
       "      <td>Advanced Qualitative Methods</td>\n",
       "      <td>A</td>\n",
       "      <td>Virginie Magnat</td>\n",
       "      <td>College of Graduate Studies</td>\n",
       "      <td>99</td>\n",
       "      <td>89</td>\n",
       "      <td>...</td>\n",
       "      <td>0.0</td>\n",
       "      <td>0.0</td>\n",
       "      <td>0.0</td>\n",
       "      <td>0.0</td>\n",
       "      <td>0.0</td>\n",
       "      <td>0.0</td>\n",
       "      <td>0.0</td>\n",
       "      <td>1.0</td>\n",
       "      <td>10.0</td>\n",
       "      <td>0.0</td>\n",
       "    </tr>\n",
       "    <tr>\n",
       "      <th>24897</th>\n",
       "      <td>24897</td>\n",
       "      <td>95.3</td>\n",
       "      <td>UBCO</td>\n",
       "      <td>515</td>\n",
       "      <td>Advanced Qualitative Methods</td>\n",
       "      <td>A</td>\n",
       "      <td>None</td>\n",
       "      <td>College of Graduate Studies</td>\n",
       "      <td>99</td>\n",
       "      <td>89</td>\n",
       "      <td>...</td>\n",
       "      <td>0.0</td>\n",
       "      <td>0.0</td>\n",
       "      <td>0.0</td>\n",
       "      <td>0.0</td>\n",
       "      <td>0.0</td>\n",
       "      <td>0.0</td>\n",
       "      <td>0.0</td>\n",
       "      <td>1.0</td>\n",
       "      <td>10.0</td>\n",
       "      <td>0.0</td>\n",
       "    </tr>\n",
       "    <tr>\n",
       "      <th>24898</th>\n",
       "      <td>24898</td>\n",
       "      <td>95.7</td>\n",
       "      <td>UBCO</td>\n",
       "      <td>515</td>\n",
       "      <td>Advanced Qualitative Methods</td>\n",
       "      <td>B</td>\n",
       "      <td>Fiona McDonald</td>\n",
       "      <td>College of Graduate Studies</td>\n",
       "      <td>100</td>\n",
       "      <td>86</td>\n",
       "      <td>...</td>\n",
       "      <td>0.0</td>\n",
       "      <td>0.0</td>\n",
       "      <td>0.0</td>\n",
       "      <td>0.0</td>\n",
       "      <td>0.0</td>\n",
       "      <td>0.0</td>\n",
       "      <td>0.0</td>\n",
       "      <td>2.0</td>\n",
       "      <td>16.0</td>\n",
       "      <td>0.0</td>\n",
       "    </tr>\n",
       "    <tr>\n",
       "      <th>...</th>\n",
       "      <td>...</td>\n",
       "      <td>...</td>\n",
       "      <td>...</td>\n",
       "      <td>...</td>\n",
       "      <td>...</td>\n",
       "      <td>...</td>\n",
       "      <td>...</td>\n",
       "      <td>...</td>\n",
       "      <td>...</td>\n",
       "      <td>...</td>\n",
       "      <td>...</td>\n",
       "      <td>...</td>\n",
       "      <td>...</td>\n",
       "      <td>...</td>\n",
       "      <td>...</td>\n",
       "      <td>...</td>\n",
       "      <td>...</td>\n",
       "      <td>...</td>\n",
       "      <td>...</td>\n",
       "      <td>...</td>\n",
       "      <td>...</td>\n",
       "    </tr>\n",
       "    <tr>\n",
       "      <th>873</th>\n",
       "      <td>873</td>\n",
       "      <td>73.4</td>\n",
       "      <td>UBCV</td>\n",
       "      <td>151</td>\n",
       "      <td>Multi-disciplinary Engineering Design Project</td>\n",
       "      <td>None</td>\n",
       "      <td>Seach Chyr Goh</td>\n",
       "      <td>Vantage College</td>\n",
       "      <td>90</td>\n",
       "      <td>0</td>\n",
       "      <td>...</td>\n",
       "      <td>NaN</td>\n",
       "      <td>NaN</td>\n",
       "      <td>NaN</td>\n",
       "      <td>NaN</td>\n",
       "      <td>6.0</td>\n",
       "      <td>11.0</td>\n",
       "      <td>NaN</td>\n",
       "      <td>6.0</td>\n",
       "      <td>NaN</td>\n",
       "      <td>NaN</td>\n",
       "    </tr>\n",
       "    <tr>\n",
       "      <th>8516</th>\n",
       "      <td>8516</td>\n",
       "      <td>74.9</td>\n",
       "      <td>UBCV</td>\n",
       "      <td>151</td>\n",
       "      <td>Multi-disciplinary Engineering Design Project</td>\n",
       "      <td>None</td>\n",
       "      <td>None</td>\n",
       "      <td>Vantage College</td>\n",
       "      <td>99</td>\n",
       "      <td>54</td>\n",
       "      <td>...</td>\n",
       "      <td>3.0</td>\n",
       "      <td>4.0</td>\n",
       "      <td>9.0</td>\n",
       "      <td>6.0</td>\n",
       "      <td>8.0</td>\n",
       "      <td>4.0</td>\n",
       "      <td>3.0</td>\n",
       "      <td>7.0</td>\n",
       "      <td>7.0</td>\n",
       "      <td>0.0</td>\n",
       "    </tr>\n",
       "    <tr>\n",
       "      <th>8517</th>\n",
       "      <td>8517</td>\n",
       "      <td>74.9</td>\n",
       "      <td>UBCV</td>\n",
       "      <td>151</td>\n",
       "      <td>Multi-disciplinary Engineering Design Project</td>\n",
       "      <td>None</td>\n",
       "      <td>Seach Chyr Goh</td>\n",
       "      <td>Vantage College</td>\n",
       "      <td>99</td>\n",
       "      <td>54</td>\n",
       "      <td>...</td>\n",
       "      <td>3.0</td>\n",
       "      <td>4.0</td>\n",
       "      <td>9.0</td>\n",
       "      <td>6.0</td>\n",
       "      <td>8.0</td>\n",
       "      <td>4.0</td>\n",
       "      <td>3.0</td>\n",
       "      <td>7.0</td>\n",
       "      <td>7.0</td>\n",
       "      <td>0.0</td>\n",
       "    </tr>\n",
       "    <tr>\n",
       "      <th>21365</th>\n",
       "      <td>21365</td>\n",
       "      <td>79.4</td>\n",
       "      <td>UBCV</td>\n",
       "      <td>151</td>\n",
       "      <td>Multi-disciplinary Engineering Design Project</td>\n",
       "      <td>None</td>\n",
       "      <td>None</td>\n",
       "      <td>Vantage College</td>\n",
       "      <td>93</td>\n",
       "      <td>33</td>\n",
       "      <td>...</td>\n",
       "      <td>2.0</td>\n",
       "      <td>2.0</td>\n",
       "      <td>0.0</td>\n",
       "      <td>1.0</td>\n",
       "      <td>3.0</td>\n",
       "      <td>1.0</td>\n",
       "      <td>18.0</td>\n",
       "      <td>19.0</td>\n",
       "      <td>2.0</td>\n",
       "      <td>1.0</td>\n",
       "    </tr>\n",
       "    <tr>\n",
       "      <th>21366</th>\n",
       "      <td>21366</td>\n",
       "      <td>79.4</td>\n",
       "      <td>UBCV</td>\n",
       "      <td>151</td>\n",
       "      <td>Multi-disciplinary Engineering Design Project</td>\n",
       "      <td>None</td>\n",
       "      <td>Seach Chyr Goh</td>\n",
       "      <td>Vantage College</td>\n",
       "      <td>93</td>\n",
       "      <td>33</td>\n",
       "      <td>...</td>\n",
       "      <td>2.0</td>\n",
       "      <td>2.0</td>\n",
       "      <td>0.0</td>\n",
       "      <td>1.0</td>\n",
       "      <td>3.0</td>\n",
       "      <td>1.0</td>\n",
       "      <td>18.0</td>\n",
       "      <td>19.0</td>\n",
       "      <td>2.0</td>\n",
       "      <td>1.0</td>\n",
       "    </tr>\n",
       "  </tbody>\n",
       "</table>\n",
       "<p>26139 rows × 30 columns</p>\n",
       "</div>"
      ],
      "text/plain": [
       "       Unnamed: 0  average campus  course  \\\n",
       "24894       24894     91.3   UBCO     503   \n",
       "24895       24895     91.3   UBCO     503   \n",
       "24896       24896     95.3   UBCO     515   \n",
       "24897       24897     95.3   UBCO     515   \n",
       "24898       24898     95.7   UBCO     515   \n",
       "...           ...      ...    ...     ...   \n",
       "873           873     73.4   UBCV     151   \n",
       "8516         8516     74.9   UBCV     151   \n",
       "8517         8517     74.9   UBCV     151   \n",
       "21365       21365     79.4   UBCV     151   \n",
       "21366       21366     79.4   UBCV     151   \n",
       "\n",
       "                                        course_title detail        educators  \\\n",
       "24894                    Indigenous Research Methods      S     Shawn Wilson   \n",
       "24895                    Indigenous Research Methods      S             None   \n",
       "24896                   Advanced Qualitative Methods      A  Virginie Magnat   \n",
       "24897                   Advanced Qualitative Methods      A             None   \n",
       "24898                   Advanced Qualitative Methods      B   Fiona McDonald   \n",
       "...                                              ...    ...              ...   \n",
       "873    Multi-disciplinary Engineering Design Project   None   Seach Chyr Goh   \n",
       "8516   Multi-disciplinary Engineering Design Project   None             None   \n",
       "8517   Multi-disciplinary Engineering Design Project   None   Seach Chyr Goh   \n",
       "21365  Multi-disciplinary Engineering Design Project   None             None   \n",
       "21366  Multi-disciplinary Engineering Design Project   None   Seach Chyr Goh   \n",
       "\n",
       "                     faculty_title  high  low  ...  grades.55-59%  \\\n",
       "24894  College of Graduate Studies    96   83  ...            0.0   \n",
       "24895  College of Graduate Studies    96   83  ...            0.0   \n",
       "24896  College of Graduate Studies    99   89  ...            0.0   \n",
       "24897  College of Graduate Studies    99   89  ...            0.0   \n",
       "24898  College of Graduate Studies   100   86  ...            0.0   \n",
       "...                            ...   ...  ...  ...            ...   \n",
       "873                Vantage College    90    0  ...            NaN   \n",
       "8516               Vantage College    99   54  ...            3.0   \n",
       "8517               Vantage College    99   54  ...            3.0   \n",
       "21365              Vantage College    93   33  ...            2.0   \n",
       "21366              Vantage College    93   33  ...            2.0   \n",
       "\n",
       "       grades.60-63%  grades.64-67%  grades.68-71% grades.72-75%  \\\n",
       "24894            0.0            0.0            0.0           0.0   \n",
       "24895            0.0            0.0            0.0           0.0   \n",
       "24896            0.0            0.0            0.0           0.0   \n",
       "24897            0.0            0.0            0.0           0.0   \n",
       "24898            0.0            0.0            0.0           0.0   \n",
       "...              ...            ...            ...           ...   \n",
       "873              NaN            NaN            NaN           6.0   \n",
       "8516             4.0            9.0            6.0           8.0   \n",
       "8517             4.0            9.0            6.0           8.0   \n",
       "21365            2.0            0.0            1.0           3.0   \n",
       "21366            2.0            0.0            1.0           3.0   \n",
       "\n",
       "      grades.76-79% grades.80-84% grades.85-89%  grades.90-100%  grades.<50%  \n",
       "24894           0.0           1.0           1.0            11.0          0.0  \n",
       "24895           0.0           1.0           1.0            11.0          0.0  \n",
       "24896           0.0           0.0           1.0            10.0          0.0  \n",
       "24897           0.0           0.0           1.0            10.0          0.0  \n",
       "24898           0.0           0.0           2.0            16.0          0.0  \n",
       "...             ...           ...           ...             ...          ...  \n",
       "873            11.0           NaN           6.0             NaN          NaN  \n",
       "8516            4.0           3.0           7.0             7.0          0.0  \n",
       "8517            4.0           3.0           7.0             7.0          0.0  \n",
       "21365           1.0          18.0          19.0             2.0          1.0  \n",
       "21366           1.0          18.0          19.0             2.0          1.0  \n",
       "\n",
       "[26139 rows x 30 columns]"
      ]
     },
     "execution_count": 25,
     "metadata": {},
     "output_type": "execute_result"
    }
   ],
   "source": [
    "# sort df for loading in the dash chart\n",
    "df.sort_values(by=['faculty_title', 'course'])"
   ]
  },
  {
   "cell_type": "code",
   "execution_count": 59,
   "metadata": {},
   "outputs": [
    {
     "data": {
      "text/html": [
       "\n",
       "        <iframe\n",
       "            width=\"100%\"\n",
       "            height=\"650\"\n",
       "            src=\"http://127.0.0.1:8050/\"\n",
       "            frameborder=\"0\"\n",
       "            allowfullscreen\n",
       "            \n",
       "        ></iframe>\n",
       "        "
      ],
      "text/plain": [
       "<IPython.lib.display.IFrame at 0x17ff37250>"
      ]
     },
     "metadata": {},
     "output_type": "display_data"
    }
   ],
   "source": [
    "# Not working\n",
    "from dash import Dash, html, dcc, callback, Output, Input\n",
    "import plotly.express as px\n",
    "\n",
    "# import pandas as pd\n",
    "\n",
    "# df = pd.read_csv('https://raw.githubusercontent.com/plotly/datasets/master/gapminder_unfiltered.csv')\n",
    "external_stylesheets = ['https://codepen.io/chriddyp/pen/bWLwgP.css']\n",
    "\n",
    "app = Dash(__name__, external_stylesheets=external_stylesheets)\n",
    "\n",
    "app.layout = html.Div([\n",
    "    html.H1(children='UBC Grades - Dash', style={'textAlign':'center'}),\n",
    "    html.Div(className=\"row\", children=[\n",
    "        # html.Div(className=\"column\", children=[\n",
    "        #     html.Label([\"Year:\"]),\n",
    "        #     dcc.Slider(df.year.min(), df.year.max(), step=1, value=2021, id='year')\n",
    "        # ]),\n",
    "        html.Div(className=\"column\", children=[\n",
    "            html.Label([\"Campus:\"]),\n",
    "            dcc.Dropdown(df.campus.unique(), value='UBCV', id='campus')\n",
    "        ]),\n",
    "        html.Div(className=\"column\", children=[\n",
    "            html.Label([\"Faculty Title:\"]),\n",
    "            dcc.Dropdown(df.faculty_title.unique(), value='Faculty of Science', id='faculty')\n",
    "        ]),\n",
    "        html.Div(className=\"column\", children=[\n",
    "            html.Label([\"Subject:\"]),\n",
    "            dcc.Dropdown(df.subject.unique(), value='CPSC', id='subject')\n",
    "        ]),\n",
    "        html.Div(className=\"column\", children=[\n",
    "            html.Label([\"Course:\"]),\n",
    "            dcc.Dropdown(df.course.unique(), value='210', id='course')\n",
    "        ]),\n",
    "    ], style=dict(display='flex')),\n",
    "    html.Br(),\n",
    "    # html.Div(id='my-output'),\n",
    "    dcc.Graph(id='plot') #not sure about html.Br (breakline)\n",
    "])\n",
    "\n",
    "@callback(\n",
    "    Output(component_id='plot', component_property='figure'),\n",
    "    # Input(component_id='year', component_property='value'),\n",
    "    Input(component_id='campus', component_property='value'),\n",
    "    Input(component_id='faculty', component_property='value'),\n",
    "    Input(component_id='subject', component_property='value'),\n",
    "    Input(component_id='course', component_property='value'),\n",
    ")\n",
    "def update_graph(campus_value, faculty_value, subject_value, course_value ):\n",
    "    dff = df.copy()\n",
    "    dff = dff[dff.campus==campus_value]\n",
    "    dff = dff[dff.faculty_title==faculty_value]\n",
    "    dff = dff[dff.subject==subject_value]\n",
    "    dff = dff[dff.course==course_value]\n",
    "    return px.scatter(dff, x='year', y='average',\n",
    "        color='average', hover_data=['course', 'section'])\n",
    "\n",
    "if __name__ == '__main__':\n",
    "    app.run(debug=True)\n"
   ]
  },
  {
   "cell_type": "code",
   "execution_count": 27,
   "metadata": {},
   "outputs": [
    {
     "data": {
      "text/html": [
       "<div>\n",
       "<style scoped>\n",
       "    .dataframe tbody tr th:only-of-type {\n",
       "        vertical-align: middle;\n",
       "    }\n",
       "\n",
       "    .dataframe tbody tr th {\n",
       "        vertical-align: top;\n",
       "    }\n",
       "\n",
       "    .dataframe thead th {\n",
       "        text-align: right;\n",
       "    }\n",
       "</style>\n",
       "<table border=\"1\" class=\"dataframe\">\n",
       "  <thead>\n",
       "    <tr style=\"text-align: right;\">\n",
       "      <th></th>\n",
       "      <th>campus</th>\n",
       "      <th>subject</th>\n",
       "      <th>course</th>\n",
       "      <th>average</th>\n",
       "      <th>year</th>\n",
       "      <th>section</th>\n",
       "    </tr>\n",
       "  </thead>\n",
       "  <tbody>\n",
       "    <tr>\n",
       "      <th>0</th>\n",
       "      <td>UBCV</td>\n",
       "      <td>CPSC</td>\n",
       "      <td>210</td>\n",
       "      <td>78.4</td>\n",
       "      <td>2021</td>\n",
       "      <td>101</td>\n",
       "    </tr>\n",
       "    <tr>\n",
       "      <th>1</th>\n",
       "      <td>UBCV</td>\n",
       "      <td>CPSC</td>\n",
       "      <td>210</td>\n",
       "      <td>80.1</td>\n",
       "      <td>2022</td>\n",
       "      <td>101</td>\n",
       "    </tr>\n",
       "  </tbody>\n",
       "</table>\n",
       "</div>"
      ],
      "text/plain": [
       "  campus subject  course  average  year section\n",
       "0   UBCV    CPSC     210     78.4  2021     101\n",
       "1   UBCV    CPSC     210     80.1  2022     101"
      ]
     },
     "execution_count": 27,
     "metadata": {},
     "output_type": "execute_result"
    }
   ],
   "source": [
    "import sqldf\n",
    "\n",
    "query = \"\"\"\n",
    "SELECT campus, subject, course, average, year, section\n",
    "FROM df\n",
    "WHERE subject==\"CPSC\" AND course==\"210\" AND section==\"101\"\n",
    "\"\"\"\n",
    "df_view = sqldf.run(query)\n",
    "df_view"
   ]
  },
  {
   "cell_type": "code",
   "execution_count": 9,
   "metadata": {},
   "outputs": [
    {
     "name": "stdout",
     "output_type": "stream",
     "text": [
      "\u001b[1;31m---------------------------------------------------------------------------\u001b[0m\n",
      "\u001b[1;31mNameError\u001b[0m                                 Traceback (most recent call last)\n",
      "\u001b[1;31mNameError\u001b[0m: name 'year' is not defined\n",
      "\n"
     ]
    },
    {
     "data": {
      "application/vnd.plotly.v1+json": {
       "config": {
        "plotlyServerURL": "https://plot.ly"
       },
       "data": [
        {
         "alignmentgroup": "True",
         "hovertemplate": "year=%{x}<br>average=%{y}<extra></extra>",
         "legendgroup": "",
         "marker": {
          "color": "#636efa",
          "pattern": {
           "shape": ""
          }
         },
         "name": "",
         "offsetgroup": "",
         "orientation": "v",
         "showlegend": false,
         "textposition": "auto",
         "type": "bar",
         "x": [],
         "xaxis": "x",
         "y": [],
         "yaxis": "y"
        }
       ],
       "layout": {
        "barmode": "relative",
        "legend": {
         "tracegroupgap": 0
        },
        "template": {
         "data": {
          "bar": [
           {
            "error_x": {
             "color": "#2a3f5f"
            },
            "error_y": {
             "color": "#2a3f5f"
            },
            "marker": {
             "line": {
              "color": "#E5ECF6",
              "width": 0.5
             },
             "pattern": {
              "fillmode": "overlay",
              "size": 10,
              "solidity": 0.2
             }
            },
            "type": "bar"
           }
          ],
          "barpolar": [
           {
            "marker": {
             "line": {
              "color": "#E5ECF6",
              "width": 0.5
             },
             "pattern": {
              "fillmode": "overlay",
              "size": 10,
              "solidity": 0.2
             }
            },
            "type": "barpolar"
           }
          ],
          "carpet": [
           {
            "aaxis": {
             "endlinecolor": "#2a3f5f",
             "gridcolor": "white",
             "linecolor": "white",
             "minorgridcolor": "white",
             "startlinecolor": "#2a3f5f"
            },
            "baxis": {
             "endlinecolor": "#2a3f5f",
             "gridcolor": "white",
             "linecolor": "white",
             "minorgridcolor": "white",
             "startlinecolor": "#2a3f5f"
            },
            "type": "carpet"
           }
          ],
          "choropleth": [
           {
            "colorbar": {
             "outlinewidth": 0,
             "ticks": ""
            },
            "type": "choropleth"
           }
          ],
          "contour": [
           {
            "colorbar": {
             "outlinewidth": 0,
             "ticks": ""
            },
            "colorscale": [
             [
              0,
              "#0d0887"
             ],
             [
              0.1111111111111111,
              "#46039f"
             ],
             [
              0.2222222222222222,
              "#7201a8"
             ],
             [
              0.3333333333333333,
              "#9c179e"
             ],
             [
              0.4444444444444444,
              "#bd3786"
             ],
             [
              0.5555555555555556,
              "#d8576b"
             ],
             [
              0.6666666666666666,
              "#ed7953"
             ],
             [
              0.7777777777777778,
              "#fb9f3a"
             ],
             [
              0.8888888888888888,
              "#fdca26"
             ],
             [
              1,
              "#f0f921"
             ]
            ],
            "type": "contour"
           }
          ],
          "contourcarpet": [
           {
            "colorbar": {
             "outlinewidth": 0,
             "ticks": ""
            },
            "type": "contourcarpet"
           }
          ],
          "heatmap": [
           {
            "colorbar": {
             "outlinewidth": 0,
             "ticks": ""
            },
            "colorscale": [
             [
              0,
              "#0d0887"
             ],
             [
              0.1111111111111111,
              "#46039f"
             ],
             [
              0.2222222222222222,
              "#7201a8"
             ],
             [
              0.3333333333333333,
              "#9c179e"
             ],
             [
              0.4444444444444444,
              "#bd3786"
             ],
             [
              0.5555555555555556,
              "#d8576b"
             ],
             [
              0.6666666666666666,
              "#ed7953"
             ],
             [
              0.7777777777777778,
              "#fb9f3a"
             ],
             [
              0.8888888888888888,
              "#fdca26"
             ],
             [
              1,
              "#f0f921"
             ]
            ],
            "type": "heatmap"
           }
          ],
          "heatmapgl": [
           {
            "colorbar": {
             "outlinewidth": 0,
             "ticks": ""
            },
            "colorscale": [
             [
              0,
              "#0d0887"
             ],
             [
              0.1111111111111111,
              "#46039f"
             ],
             [
              0.2222222222222222,
              "#7201a8"
             ],
             [
              0.3333333333333333,
              "#9c179e"
             ],
             [
              0.4444444444444444,
              "#bd3786"
             ],
             [
              0.5555555555555556,
              "#d8576b"
             ],
             [
              0.6666666666666666,
              "#ed7953"
             ],
             [
              0.7777777777777778,
              "#fb9f3a"
             ],
             [
              0.8888888888888888,
              "#fdca26"
             ],
             [
              1,
              "#f0f921"
             ]
            ],
            "type": "heatmapgl"
           }
          ],
          "histogram": [
           {
            "marker": {
             "pattern": {
              "fillmode": "overlay",
              "size": 10,
              "solidity": 0.2
             }
            },
            "type": "histogram"
           }
          ],
          "histogram2d": [
           {
            "colorbar": {
             "outlinewidth": 0,
             "ticks": ""
            },
            "colorscale": [
             [
              0,
              "#0d0887"
             ],
             [
              0.1111111111111111,
              "#46039f"
             ],
             [
              0.2222222222222222,
              "#7201a8"
             ],
             [
              0.3333333333333333,
              "#9c179e"
             ],
             [
              0.4444444444444444,
              "#bd3786"
             ],
             [
              0.5555555555555556,
              "#d8576b"
             ],
             [
              0.6666666666666666,
              "#ed7953"
             ],
             [
              0.7777777777777778,
              "#fb9f3a"
             ],
             [
              0.8888888888888888,
              "#fdca26"
             ],
             [
              1,
              "#f0f921"
             ]
            ],
            "type": "histogram2d"
           }
          ],
          "histogram2dcontour": [
           {
            "colorbar": {
             "outlinewidth": 0,
             "ticks": ""
            },
            "colorscale": [
             [
              0,
              "#0d0887"
             ],
             [
              0.1111111111111111,
              "#46039f"
             ],
             [
              0.2222222222222222,
              "#7201a8"
             ],
             [
              0.3333333333333333,
              "#9c179e"
             ],
             [
              0.4444444444444444,
              "#bd3786"
             ],
             [
              0.5555555555555556,
              "#d8576b"
             ],
             [
              0.6666666666666666,
              "#ed7953"
             ],
             [
              0.7777777777777778,
              "#fb9f3a"
             ],
             [
              0.8888888888888888,
              "#fdca26"
             ],
             [
              1,
              "#f0f921"
             ]
            ],
            "type": "histogram2dcontour"
           }
          ],
          "mesh3d": [
           {
            "colorbar": {
             "outlinewidth": 0,
             "ticks": ""
            },
            "type": "mesh3d"
           }
          ],
          "parcoords": [
           {
            "line": {
             "colorbar": {
              "outlinewidth": 0,
              "ticks": ""
             }
            },
            "type": "parcoords"
           }
          ],
          "pie": [
           {
            "automargin": true,
            "type": "pie"
           }
          ],
          "scatter": [
           {
            "fillpattern": {
             "fillmode": "overlay",
             "size": 10,
             "solidity": 0.2
            },
            "type": "scatter"
           }
          ],
          "scatter3d": [
           {
            "line": {
             "colorbar": {
              "outlinewidth": 0,
              "ticks": ""
             }
            },
            "marker": {
             "colorbar": {
              "outlinewidth": 0,
              "ticks": ""
             }
            },
            "type": "scatter3d"
           }
          ],
          "scattercarpet": [
           {
            "marker": {
             "colorbar": {
              "outlinewidth": 0,
              "ticks": ""
             }
            },
            "type": "scattercarpet"
           }
          ],
          "scattergeo": [
           {
            "marker": {
             "colorbar": {
              "outlinewidth": 0,
              "ticks": ""
             }
            },
            "type": "scattergeo"
           }
          ],
          "scattergl": [
           {
            "marker": {
             "colorbar": {
              "outlinewidth": 0,
              "ticks": ""
             }
            },
            "type": "scattergl"
           }
          ],
          "scattermapbox": [
           {
            "marker": {
             "colorbar": {
              "outlinewidth": 0,
              "ticks": ""
             }
            },
            "type": "scattermapbox"
           }
          ],
          "scatterpolar": [
           {
            "marker": {
             "colorbar": {
              "outlinewidth": 0,
              "ticks": ""
             }
            },
            "type": "scatterpolar"
           }
          ],
          "scatterpolargl": [
           {
            "marker": {
             "colorbar": {
              "outlinewidth": 0,
              "ticks": ""
             }
            },
            "type": "scatterpolargl"
           }
          ],
          "scatterternary": [
           {
            "marker": {
             "colorbar": {
              "outlinewidth": 0,
              "ticks": ""
             }
            },
            "type": "scatterternary"
           }
          ],
          "surface": [
           {
            "colorbar": {
             "outlinewidth": 0,
             "ticks": ""
            },
            "colorscale": [
             [
              0,
              "#0d0887"
             ],
             [
              0.1111111111111111,
              "#46039f"
             ],
             [
              0.2222222222222222,
              "#7201a8"
             ],
             [
              0.3333333333333333,
              "#9c179e"
             ],
             [
              0.4444444444444444,
              "#bd3786"
             ],
             [
              0.5555555555555556,
              "#d8576b"
             ],
             [
              0.6666666666666666,
              "#ed7953"
             ],
             [
              0.7777777777777778,
              "#fb9f3a"
             ],
             [
              0.8888888888888888,
              "#fdca26"
             ],
             [
              1,
              "#f0f921"
             ]
            ],
            "type": "surface"
           }
          ],
          "table": [
           {
            "cells": {
             "fill": {
              "color": "#EBF0F8"
             },
             "line": {
              "color": "white"
             }
            },
            "header": {
             "fill": {
              "color": "#C8D4E3"
             },
             "line": {
              "color": "white"
             }
            },
            "type": "table"
           }
          ]
         },
         "layout": {
          "annotationdefaults": {
           "arrowcolor": "#2a3f5f",
           "arrowhead": 0,
           "arrowwidth": 1
          },
          "autotypenumbers": "strict",
          "coloraxis": {
           "colorbar": {
            "outlinewidth": 0,
            "ticks": ""
           }
          },
          "colorscale": {
           "diverging": [
            [
             0,
             "#8e0152"
            ],
            [
             0.1,
             "#c51b7d"
            ],
            [
             0.2,
             "#de77ae"
            ],
            [
             0.3,
             "#f1b6da"
            ],
            [
             0.4,
             "#fde0ef"
            ],
            [
             0.5,
             "#f7f7f7"
            ],
            [
             0.6,
             "#e6f5d0"
            ],
            [
             0.7,
             "#b8e186"
            ],
            [
             0.8,
             "#7fbc41"
            ],
            [
             0.9,
             "#4d9221"
            ],
            [
             1,
             "#276419"
            ]
           ],
           "sequential": [
            [
             0,
             "#0d0887"
            ],
            [
             0.1111111111111111,
             "#46039f"
            ],
            [
             0.2222222222222222,
             "#7201a8"
            ],
            [
             0.3333333333333333,
             "#9c179e"
            ],
            [
             0.4444444444444444,
             "#bd3786"
            ],
            [
             0.5555555555555556,
             "#d8576b"
            ],
            [
             0.6666666666666666,
             "#ed7953"
            ],
            [
             0.7777777777777778,
             "#fb9f3a"
            ],
            [
             0.8888888888888888,
             "#fdca26"
            ],
            [
             1,
             "#f0f921"
            ]
           ],
           "sequentialminus": [
            [
             0,
             "#0d0887"
            ],
            [
             0.1111111111111111,
             "#46039f"
            ],
            [
             0.2222222222222222,
             "#7201a8"
            ],
            [
             0.3333333333333333,
             "#9c179e"
            ],
            [
             0.4444444444444444,
             "#bd3786"
            ],
            [
             0.5555555555555556,
             "#d8576b"
            ],
            [
             0.6666666666666666,
             "#ed7953"
            ],
            [
             0.7777777777777778,
             "#fb9f3a"
            ],
            [
             0.8888888888888888,
             "#fdca26"
            ],
            [
             1,
             "#f0f921"
            ]
           ]
          },
          "colorway": [
           "#636efa",
           "#EF553B",
           "#00cc96",
           "#ab63fa",
           "#FFA15A",
           "#19d3f3",
           "#FF6692",
           "#B6E880",
           "#FF97FF",
           "#FECB52"
          ],
          "font": {
           "color": "#2a3f5f"
          },
          "geo": {
           "bgcolor": "white",
           "lakecolor": "white",
           "landcolor": "#E5ECF6",
           "showlakes": true,
           "showland": true,
           "subunitcolor": "white"
          },
          "hoverlabel": {
           "align": "left"
          },
          "hovermode": "closest",
          "mapbox": {
           "style": "light"
          },
          "paper_bgcolor": "white",
          "plot_bgcolor": "#E5ECF6",
          "polar": {
           "angularaxis": {
            "gridcolor": "white",
            "linecolor": "white",
            "ticks": ""
           },
           "bgcolor": "#E5ECF6",
           "radialaxis": {
            "gridcolor": "white",
            "linecolor": "white",
            "ticks": ""
           }
          },
          "scene": {
           "xaxis": {
            "backgroundcolor": "#E5ECF6",
            "gridcolor": "white",
            "gridwidth": 2,
            "linecolor": "white",
            "showbackground": true,
            "ticks": "",
            "zerolinecolor": "white"
           },
           "yaxis": {
            "backgroundcolor": "#E5ECF6",
            "gridcolor": "white",
            "gridwidth": 2,
            "linecolor": "white",
            "showbackground": true,
            "ticks": "",
            "zerolinecolor": "white"
           },
           "zaxis": {
            "backgroundcolor": "#E5ECF6",
            "gridcolor": "white",
            "gridwidth": 2,
            "linecolor": "white",
            "showbackground": true,
            "ticks": "",
            "zerolinecolor": "white"
           }
          },
          "shapedefaults": {
           "line": {
            "color": "#2a3f5f"
           }
          },
          "ternary": {
           "aaxis": {
            "gridcolor": "white",
            "linecolor": "white",
            "ticks": ""
           },
           "baxis": {
            "gridcolor": "white",
            "linecolor": "white",
            "ticks": ""
           },
           "bgcolor": "#E5ECF6",
           "caxis": {
            "gridcolor": "white",
            "linecolor": "white",
            "ticks": ""
           }
          },
          "title": {
           "x": 0.05
          },
          "xaxis": {
           "automargin": true,
           "gridcolor": "white",
           "linecolor": "white",
           "ticks": "",
           "title": {
            "standoff": 15
           },
           "zerolinecolor": "white",
           "zerolinewidth": 2
          },
          "yaxis": {
           "automargin": true,
           "gridcolor": "white",
           "linecolor": "white",
           "ticks": "",
           "title": {
            "standoff": 15
           },
           "zerolinecolor": "white",
           "zerolinewidth": 2
          }
         }
        },
        "title": {
         "text": "UBCV CPSC 210 section 101"
        },
        "xaxis": {
         "anchor": "y",
         "domain": [
          0,
          1
         ],
         "title": {
          "text": "year"
         }
        },
        "yaxis": {
         "anchor": "x",
         "domain": [
          0,
          1
         ],
         "title": {
          "text": "average"
         }
        }
       }
      }
     },
     "metadata": {},
     "output_type": "display_data"
    }
   ],
   "source": [
    "# Sample bar chart\n",
    "import plotly.express as px\n",
    "dff = df[(df.campus == \"UBCV\") & (df.subject == \"CPSC\") & (df.course == \"210\") & (df.section == \"101\")]\n",
    "fig = px.bar(dff, x='year', y='average', title=\"UBCV CPSC 210 section 101\")\n",
    "fig.show()"
   ]
  },
  {
   "cell_type": "code",
   "execution_count": 10,
   "metadata": {},
   "outputs": [
    {
     "ename": "ValueError",
     "evalue": "Value of 'x' is not the name of a column in 'data_frame'. Expected one of ['Unnamed: 0', 'average', 'campus', 'course', 'course_title', 'detail', 'educators', 'faculty_title', 'high', 'low', 'median', 'percentile_25', 'percentile_75', 'reported', 'section', 'session', 'subject', 'subject_title', 'year', 'grades.50-54%', 'grades.55-59%', 'grades.60-63%', 'grades.64-67%', 'grades.68-71%', 'grades.72-75%', 'grades.76-79%', 'grades.80-84%', 'grades.85-89%', 'grades.90-100%', 'grades.<50%'] but received: grades",
     "output_type": "error",
     "traceback": [
      "\u001b[0;31m---------------------------------------------------------------------------\u001b[0m",
      "\u001b[0;31mValueError\u001b[0m                                Traceback (most recent call last)",
      "Cell \u001b[0;32mIn[10], line 7\u001b[0m\n\u001b[1;32m      5\u001b[0m \u001b[38;5;28;01mimport\u001b[39;00m \u001b[38;5;21;01mplotly\u001b[39;00m\u001b[38;5;21;01m.\u001b[39;00m\u001b[38;5;21;01mexpress\u001b[39;00m \u001b[38;5;28;01mas\u001b[39;00m \u001b[38;5;21;01mpx\u001b[39;00m\n\u001b[1;32m      6\u001b[0m dff \u001b[38;5;241m=\u001b[39m df[(df\u001b[38;5;241m.\u001b[39mcampus \u001b[38;5;241m==\u001b[39m \u001b[38;5;124m\"\u001b[39m\u001b[38;5;124mUBCV\u001b[39m\u001b[38;5;124m\"\u001b[39m) \u001b[38;5;241m&\u001b[39m (df\u001b[38;5;241m.\u001b[39msubject \u001b[38;5;241m==\u001b[39m \u001b[38;5;124m\"\u001b[39m\u001b[38;5;124mCPSC\u001b[39m\u001b[38;5;124m\"\u001b[39m) \u001b[38;5;241m&\u001b[39m (df\u001b[38;5;241m.\u001b[39mcourse \u001b[38;5;241m==\u001b[39m \u001b[38;5;124m\"\u001b[39m\u001b[38;5;124m210\u001b[39m\u001b[38;5;124m\"\u001b[39m)]\n\u001b[0;32m----> 7\u001b[0m fig \u001b[38;5;241m=\u001b[39m px\u001b[38;5;241m.\u001b[39mhistogram(dff, x\u001b[38;5;241m=\u001b[39m\u001b[38;5;124m'\u001b[39m\u001b[38;5;124mgrades\u001b[39m\u001b[38;5;124m'\u001b[39m)\n\u001b[1;32m      8\u001b[0m fig\u001b[38;5;241m.\u001b[39mshow()\n",
      "File \u001b[0;32m~/Library/Python/3.9/lib/python/site-packages/plotly/express/_chart_types.py:480\u001b[0m, in \u001b[0;36mhistogram\u001b[0;34m(data_frame, x, y, color, pattern_shape, facet_row, facet_col, facet_col_wrap, facet_row_spacing, facet_col_spacing, hover_name, hover_data, animation_frame, animation_group, category_orders, labels, color_discrete_sequence, color_discrete_map, pattern_shape_sequence, pattern_shape_map, marginal, opacity, orientation, barmode, barnorm, histnorm, log_x, log_y, range_x, range_y, histfunc, cumulative, nbins, text_auto, title, template, width, height)\u001b[0m\n\u001b[1;32m    434\u001b[0m \u001b[38;5;28;01mdef\u001b[39;00m \u001b[38;5;21mhistogram\u001b[39m(\n\u001b[1;32m    435\u001b[0m     data_frame\u001b[38;5;241m=\u001b[39m\u001b[38;5;28;01mNone\u001b[39;00m,\n\u001b[1;32m    436\u001b[0m     x\u001b[38;5;241m=\u001b[39m\u001b[38;5;28;01mNone\u001b[39;00m,\n\u001b[0;32m   (...)\u001b[0m\n\u001b[1;32m    472\u001b[0m     height\u001b[38;5;241m=\u001b[39m\u001b[38;5;28;01mNone\u001b[39;00m,\n\u001b[1;32m    473\u001b[0m ) \u001b[38;5;241m-\u001b[39m\u001b[38;5;241m>\u001b[39m go\u001b[38;5;241m.\u001b[39mFigure:\n\u001b[1;32m    474\u001b[0m     \u001b[38;5;124;03m\"\"\"\u001b[39;00m\n\u001b[1;32m    475\u001b[0m \u001b[38;5;124;03m    In a histogram, rows of `data_frame` are grouped together into a\u001b[39;00m\n\u001b[1;32m    476\u001b[0m \u001b[38;5;124;03m    rectangular mark to visualize the 1D distribution of an aggregate\u001b[39;00m\n\u001b[1;32m    477\u001b[0m \u001b[38;5;124;03m    function `histfunc` (e.g. the count or sum) of the value `y` (or `x` if\u001b[39;00m\n\u001b[1;32m    478\u001b[0m \u001b[38;5;124;03m    `orientation` is `'h'`).\u001b[39;00m\n\u001b[1;32m    479\u001b[0m \u001b[38;5;124;03m    \"\"\"\u001b[39;00m\n\u001b[0;32m--> 480\u001b[0m     \u001b[38;5;28;01mreturn\u001b[39;00m \u001b[43mmake_figure\u001b[49m\u001b[43m(\u001b[49m\n\u001b[1;32m    481\u001b[0m \u001b[43m        \u001b[49m\u001b[43margs\u001b[49m\u001b[38;5;241;43m=\u001b[39;49m\u001b[38;5;28;43mlocals\u001b[39;49m\u001b[43m(\u001b[49m\u001b[43m)\u001b[49m\u001b[43m,\u001b[49m\n\u001b[1;32m    482\u001b[0m \u001b[43m        \u001b[49m\u001b[43mconstructor\u001b[49m\u001b[38;5;241;43m=\u001b[39;49m\u001b[43mgo\u001b[49m\u001b[38;5;241;43m.\u001b[39;49m\u001b[43mHistogram\u001b[49m\u001b[43m,\u001b[49m\n\u001b[1;32m    483\u001b[0m \u001b[43m        \u001b[49m\u001b[43mtrace_patch\u001b[49m\u001b[38;5;241;43m=\u001b[39;49m\u001b[38;5;28;43mdict\u001b[39;49m\u001b[43m(\u001b[49m\n\u001b[1;32m    484\u001b[0m \u001b[43m            \u001b[49m\u001b[43mhistnorm\u001b[49m\u001b[38;5;241;43m=\u001b[39;49m\u001b[43mhistnorm\u001b[49m\u001b[43m,\u001b[49m\n\u001b[1;32m    485\u001b[0m \u001b[43m            \u001b[49m\u001b[43mhistfunc\u001b[49m\u001b[38;5;241;43m=\u001b[39;49m\u001b[43mhistfunc\u001b[49m\u001b[43m,\u001b[49m\n\u001b[1;32m    486\u001b[0m \u001b[43m            \u001b[49m\u001b[43mcumulative\u001b[49m\u001b[38;5;241;43m=\u001b[39;49m\u001b[38;5;28;43mdict\u001b[39;49m\u001b[43m(\u001b[49m\u001b[43menabled\u001b[49m\u001b[38;5;241;43m=\u001b[39;49m\u001b[43mcumulative\u001b[49m\u001b[43m)\u001b[49m\u001b[43m,\u001b[49m\n\u001b[1;32m    487\u001b[0m \u001b[43m        \u001b[49m\u001b[43m)\u001b[49m\u001b[43m,\u001b[49m\n\u001b[1;32m    488\u001b[0m \u001b[43m        \u001b[49m\u001b[43mlayout_patch\u001b[49m\u001b[38;5;241;43m=\u001b[39;49m\u001b[38;5;28;43mdict\u001b[39;49m\u001b[43m(\u001b[49m\u001b[43mbarmode\u001b[49m\u001b[38;5;241;43m=\u001b[39;49m\u001b[43mbarmode\u001b[49m\u001b[43m,\u001b[49m\u001b[43m \u001b[49m\u001b[43mbarnorm\u001b[49m\u001b[38;5;241;43m=\u001b[39;49m\u001b[43mbarnorm\u001b[49m\u001b[43m)\u001b[49m\u001b[43m,\u001b[49m\n\u001b[1;32m    489\u001b[0m \u001b[43m    \u001b[49m\u001b[43m)\u001b[49m\n",
      "File \u001b[0;32m~/Library/Python/3.9/lib/python/site-packages/plotly/express/_core.py:2076\u001b[0m, in \u001b[0;36mmake_figure\u001b[0;34m(args, constructor, trace_patch, layout_patch)\u001b[0m\n\u001b[1;32m   2073\u001b[0m layout_patch \u001b[38;5;241m=\u001b[39m layout_patch \u001b[38;5;129;01mor\u001b[39;00m {}\n\u001b[1;32m   2074\u001b[0m apply_default_cascade(args)\n\u001b[0;32m-> 2076\u001b[0m args \u001b[38;5;241m=\u001b[39m \u001b[43mbuild_dataframe\u001b[49m\u001b[43m(\u001b[49m\u001b[43margs\u001b[49m\u001b[43m,\u001b[49m\u001b[43m \u001b[49m\u001b[43mconstructor\u001b[49m\u001b[43m)\u001b[49m\n\u001b[1;32m   2077\u001b[0m \u001b[38;5;28;01mif\u001b[39;00m constructor \u001b[38;5;129;01min\u001b[39;00m [go\u001b[38;5;241m.\u001b[39mTreemap, go\u001b[38;5;241m.\u001b[39mSunburst, go\u001b[38;5;241m.\u001b[39mIcicle] \u001b[38;5;129;01mand\u001b[39;00m args[\u001b[38;5;124m\"\u001b[39m\u001b[38;5;124mpath\u001b[39m\u001b[38;5;124m\"\u001b[39m] \u001b[38;5;129;01mis\u001b[39;00m \u001b[38;5;129;01mnot\u001b[39;00m \u001b[38;5;28;01mNone\u001b[39;00m:\n\u001b[1;32m   2078\u001b[0m     args \u001b[38;5;241m=\u001b[39m process_dataframe_hierarchy(args)\n",
      "File \u001b[0;32m~/Library/Python/3.9/lib/python/site-packages/plotly/express/_core.py:1485\u001b[0m, in \u001b[0;36mbuild_dataframe\u001b[0;34m(args, constructor)\u001b[0m\n\u001b[1;32m   1482\u001b[0m     args[\u001b[38;5;124m\"\u001b[39m\u001b[38;5;124mcolor\u001b[39m\u001b[38;5;124m\"\u001b[39m] \u001b[38;5;241m=\u001b[39m \u001b[38;5;28;01mNone\u001b[39;00m\n\u001b[1;32m   1483\u001b[0m \u001b[38;5;66;03m# now that things have been prepped, we do the systematic rewriting of `args`\u001b[39;00m\n\u001b[0;32m-> 1485\u001b[0m df_output, wide_id_vars \u001b[38;5;241m=\u001b[39m \u001b[43mprocess_args_into_dataframe\u001b[49m\u001b[43m(\u001b[49m\n\u001b[1;32m   1486\u001b[0m \u001b[43m    \u001b[49m\u001b[43margs\u001b[49m\u001b[43m,\u001b[49m\u001b[43m \u001b[49m\u001b[43mwide_mode\u001b[49m\u001b[43m,\u001b[49m\u001b[43m \u001b[49m\u001b[43mvar_name\u001b[49m\u001b[43m,\u001b[49m\u001b[43m \u001b[49m\u001b[43mvalue_name\u001b[49m\n\u001b[1;32m   1487\u001b[0m \u001b[43m\u001b[49m\u001b[43m)\u001b[49m\n\u001b[1;32m   1489\u001b[0m \u001b[38;5;66;03m# now that `df_output` exists and `args` contains only references, we complete\u001b[39;00m\n\u001b[1;32m   1490\u001b[0m \u001b[38;5;66;03m# the special-case and wide-mode handling by further rewriting args and/or mutating\u001b[39;00m\n\u001b[1;32m   1491\u001b[0m \u001b[38;5;66;03m# df_output\u001b[39;00m\n\u001b[1;32m   1493\u001b[0m count_name \u001b[38;5;241m=\u001b[39m _escape_col_name(df_output, \u001b[38;5;124m\"\u001b[39m\u001b[38;5;124mcount\u001b[39m\u001b[38;5;124m\"\u001b[39m, [var_name, value_name])\n",
      "File \u001b[0;32m~/Library/Python/3.9/lib/python/site-packages/plotly/express/_core.py:1210\u001b[0m, in \u001b[0;36mprocess_args_into_dataframe\u001b[0;34m(args, wide_mode, var_name, value_name)\u001b[0m\n\u001b[1;32m   1208\u001b[0m         \u001b[38;5;28;01mif\u001b[39;00m argument \u001b[38;5;241m==\u001b[39m \u001b[38;5;124m\"\u001b[39m\u001b[38;5;124mindex\u001b[39m\u001b[38;5;124m\"\u001b[39m:\n\u001b[1;32m   1209\u001b[0m             err_msg \u001b[38;5;241m+\u001b[39m\u001b[38;5;241m=\u001b[39m \u001b[38;5;124m\"\u001b[39m\u001b[38;5;130;01m\\n\u001b[39;00m\u001b[38;5;124m To use the index, pass it in directly as `df.index`.\u001b[39m\u001b[38;5;124m\"\u001b[39m\n\u001b[0;32m-> 1210\u001b[0m         \u001b[38;5;28;01mraise\u001b[39;00m \u001b[38;5;167;01mValueError\u001b[39;00m(err_msg)\n\u001b[1;32m   1211\u001b[0m \u001b[38;5;28;01melif\u001b[39;00m length \u001b[38;5;129;01mand\u001b[39;00m \u001b[38;5;28mlen\u001b[39m(df_input[argument]) \u001b[38;5;241m!=\u001b[39m length:\n\u001b[1;32m   1212\u001b[0m     \u001b[38;5;28;01mraise\u001b[39;00m \u001b[38;5;167;01mValueError\u001b[39;00m(\n\u001b[1;32m   1213\u001b[0m         \u001b[38;5;124m\"\u001b[39m\u001b[38;5;124mAll arguments should have the same length. \u001b[39m\u001b[38;5;124m\"\u001b[39m\n\u001b[1;32m   1214\u001b[0m         \u001b[38;5;124m\"\u001b[39m\u001b[38;5;124mThe length of column argument `df[\u001b[39m\u001b[38;5;132;01m%s\u001b[39;00m\u001b[38;5;124m]` is \u001b[39m\u001b[38;5;132;01m%d\u001b[39;00m\u001b[38;5;124m, whereas the \u001b[39m\u001b[38;5;124m\"\u001b[39m\n\u001b[0;32m   (...)\u001b[0m\n\u001b[1;32m   1221\u001b[0m         )\n\u001b[1;32m   1222\u001b[0m     )\n",
      "\u001b[0;31mValueError\u001b[0m: Value of 'x' is not the name of a column in 'data_frame'. Expected one of ['Unnamed: 0', 'average', 'campus', 'course', 'course_title', 'detail', 'educators', 'faculty_title', 'high', 'low', 'median', 'percentile_25', 'percentile_75', 'reported', 'section', 'session', 'subject', 'subject_title', 'year', 'grades.50-54%', 'grades.55-59%', 'grades.60-63%', 'grades.64-67%', 'grades.68-71%', 'grades.72-75%', 'grades.76-79%', 'grades.80-84%', 'grades.85-89%', 'grades.90-100%', 'grades.<50%'] but received: grades"
     ]
    }
   ],
   "source": [
    "# Trying to get to like ubcgrades.com distribution (grades ranges and counts)\n",
    "## currently column headers are grades.50-54%,grades.55-59%,grades.60-63%,grades.64-67%,grades.68-71%,grades.72-75%,grades.76-79%,grades.80-84%,grades.85-89%,grades.90-100%,grades.<50%\n",
    "## but i want to sort by grades\n",
    "\n",
    "import plotly.express as px\n",
    "dff = df[(df.campus == \"UBCV\") & (df.subject == \"CPSC\") & (df.course == \"210\")]\n",
    "fig = px.histogram(dff, x='grades')\n",
    "fig.show()"
   ]
  },
  {
   "cell_type": "code",
   "execution_count": null,
   "metadata": {},
   "outputs": [
    {
     "data": {
      "text/html": [
       "<div>\n",
       "<style scoped>\n",
       "    .dataframe tbody tr th:only-of-type {\n",
       "        vertical-align: middle;\n",
       "    }\n",
       "\n",
       "    .dataframe tbody tr th {\n",
       "        vertical-align: top;\n",
       "    }\n",
       "\n",
       "    .dataframe thead th {\n",
       "        text-align: right;\n",
       "    }\n",
       "</style>\n",
       "<table border=\"1\" class=\"dataframe\">\n",
       "  <thead>\n",
       "    <tr style=\"text-align: right;\">\n",
       "      <th></th>\n",
       "      <th>campus</th>\n",
       "      <th>subject</th>\n",
       "      <th>course</th>\n",
       "      <th>average</th>\n",
       "      <th>year</th>\n",
       "      <th>section</th>\n",
       "    </tr>\n",
       "  </thead>\n",
       "  <tbody>\n",
       "    <tr>\n",
       "      <th>0</th>\n",
       "      <td>UBCV</td>\n",
       "      <td>CPSC</td>\n",
       "      <td>210</td>\n",
       "      <td>78.4</td>\n",
       "      <td>2021</td>\n",
       "      <td>101</td>\n",
       "    </tr>\n",
       "    <tr>\n",
       "      <th>1</th>\n",
       "      <td>UBCV</td>\n",
       "      <td>CPSC</td>\n",
       "      <td>210</td>\n",
       "      <td>80.1</td>\n",
       "      <td>2022</td>\n",
       "      <td>101</td>\n",
       "    </tr>\n",
       "  </tbody>\n",
       "</table>\n",
       "</div>"
      ],
      "text/plain": [
       "  campus subject course  average  year section\n",
       "0   UBCV    CPSC    210     78.4  2021     101\n",
       "1   UBCV    CPSC    210     80.1  2022     101"
      ]
     },
     "execution_count": 18,
     "metadata": {},
     "output_type": "execute_result"
    }
   ],
   "source": []
  }
 ],
 "metadata": {
  "kernelspec": {
   "display_name": "Python 3",
   "language": "python",
   "name": "python3"
  },
  "language_info": {
   "codemirror_mode": {
    "name": "ipython",
    "version": 3
   },
   "file_extension": ".py",
   "mimetype": "text/x-python",
   "name": "python",
   "nbconvert_exporter": "python",
   "pygments_lexer": "ipython3",
   "version": "3.9.6"
  }
 },
 "nbformat": 4,
 "nbformat_minor": 2
}
